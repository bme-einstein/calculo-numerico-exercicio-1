{
  "nbformat": 4,
  "nbformat_minor": 0,
  "metadata": {
    "colab": {
      "provenance": [],
      "include_colab_link": true
    },
    "kernelspec": {
      "name": "python3",
      "display_name": "Python 3"
    },
    "language_info": {
      "name": "python"
    }
  },
  "cells": [
    {
      "cell_type": "markdown",
      "metadata": {
        "id": "view-in-github",
        "colab_type": "text"
      },
      "source": [
        "<a href=\"https://colab.research.google.com/github/socampana/calculo-numerico-exercicio-1/blob/main/Aula2.ipynb\" target=\"_parent\"><img src=\"https://colab.research.google.com/assets/colab-badge.svg\" alt=\"Open In Colab\"/></a>"
      ]
    },
    {
      "cell_type": "markdown",
      "source": [
        "# **Recapitulação de Python e apresentação sobre NumPy**\n",
        "\n",
        "Nesta prática, iremos relembrar o **básico de Python** e aprender um pouco mais sobre a biblioteca chamada **Numpy**.\n",
        "\n",
        "NumPy é uma biblioteca para a linguagem de programação Python, adicionando **suporte para matrizes e arrays grandes e multidimensionais**, juntamente com uma grande coleção de **funções matemáticas** de alto nível para operar nesses arrays.\n",
        "\n",
        "[Clique aqui para saber mais sobre essa biblioteca.](https://numpy.org)\n",
        "\n",
        "Para a prática, vamos utilizar o **Google Colab**.\n",
        "\n",
        "Este notebook do Google Colab funciona de maneira similar ao Jupyter Notebooks.\n",
        "Colab, ou \"Colaboratório\", permite que você escreva e execute Python no seu navegador, com:\n",
        "*   Nenhuma configuração necessária\n",
        "*   Acesso a GPUs sem custos\n",
        "*   Fácil compartilhamento\n",
        "\n",
        "Os notebooks Colab executam código nos **servidores de nuvem do Google**, o que significa que você pode aproveitar o poder do hardware do Google independentemente do poder da sua máquina. Tudo o que você precisa é de um navegador.\n",
        "\n",
        "Para executar o código na célula, selecione-a com um clique e então pressione o botão play à esquerda do código, ou use o atalho de teclado \"Command/Ctrl+Enter\". Para editar o código, basta clicar na célula e começar a editar.\n",
        "\n",
        "**Quaisquer alterações que você fizer neste notebook não ficarão salvas.**\n",
        "\n",
        "**Portanto, recomendo que você vá em \"Arquivo\" > \"Salvar uma cópia no Drive\" **\n",
        "\n",
        "Agora sim você pode fazer alterações a vontade que elas ficarão salvas.\n",
        "\n",
        "\n",
        "\n",
        "\n"
      ],
      "metadata": {
        "id": "Y2HkQVup24n4"
      }
    },
    {
      "cell_type": "markdown",
      "source": [
        "\n",
        "Nesta prática, iremos trabalhar com **sinais de EMG** coletado de um paciente saudável enquanto fazendo os seguintes **gestos** com a mão:\n",
        "\n",
        "\n",
        "*   Punho fechado (full grasp, em inglês)\n",
        "*   Pinch\n",
        "*   Repouso\n",
        "\n",
        "Oito grupos musculares foram selecionados para aquisição de sinal de EMG.\n",
        "\n",
        "*   Isso inclui dois canais na parte de trás da mão, para o terceiro interósseo dorsoral e o segundo interósseo dorsoral.\n",
        "\n",
        "*   O terceiro canal foi colocado no oponente do polegar na frente da mão.\n",
        "\n",
        "*   O quarto canal foi usado para capturar a atividade do polegar usando o abdutor longo do polegar.\n",
        "\n",
        "*   Os canais números 5 e 6 foram colocados no local do músculo flexor dos dedos, enquanto o canal 7 foi colocado no local do músculo extensor dos dedos.\n",
        "\n",
        "*   Finalmente, o canal 8 foi colocado no local do bíceps branchii para detectar qualquer atividade de flexão do punho.\n",
        "\n",
        "*   Um eletrodo de aterramento foi colocado no osso do cotovelo, onde a atividade mioelétrica é mínima.\n",
        "\n",
        "\n",
        "\n",
        "\n",
        "![WhatsApp Image 2025-02-06 at 05.12.24.jpeg](data:image/jpeg;base64,/9j/4AAQSkZJRgABAQAAAQABAAD/4gHYSUNDX1BST0ZJTEUAAQEAAAHIAAAAAAQwAABtbnRyUkdCIFhZWiAH4AABAAEAAAAAAABhY3NwAAAAAAAAAAAAAAAAAAAAAAAAAAAAAAAAAAAAAQAA9tYAAQAAAADTLQAAAAAAAAAAAAAAAAAAAAAAAAAAAAAAAAAAAAAAAAAAAAAAAAAAAAAAAAAAAAAAAAAAAAlkZXNjAAAA8AAAACRyWFlaAAABFAAAABRnWFlaAAABKAAAABRiWFlaAAABPAAAABR3dHB0AAABUAAAABRyVFJDAAABZAAAAChnVFJDAAABZAAAAChiVFJDAAABZAAAAChjcHJ0AAABjAAAADxtbHVjAAAAAAAAAAEAAAAMZW5VUwAAAAgAAAAcAHMAUgBHAEJYWVogAAAAAAAAb6IAADj1AAADkFhZWiAAAAAAAABimQAAt4UAABjaWFlaIAAAAAAAACSgAAAPhAAAts9YWVogAAAAAAAA9tYAAQAAAADTLXBhcmEAAAAAAAQAAAACZmYAAPKnAAANWQAAE9AAAApbAAAAAAAAAABtbHVjAAAAAAAAAAEAAAAMZW5VUwAAACAAAAAcAEcAbwBvAGcAbABlACAASQBuAGMALgAgADIAMAAxADb/2wBDAAMCAgICAgMCAgIDAwMDBAYEBAQEBAgGBgUGCQgKCgkICQkKDA8MCgsOCwkJDRENDg8QEBEQCgwSExIQEw8QEBD/2wBDAQMDAwQDBAgEBAgQCwkLEBAQEBAQEBAQEBAQEBAQEBAQEBAQEBAQEBAQEBAQEBAQEBAQEBAQEBAQEBAQEBAQEBD/wAARCAD4AaoDASIAAhEBAxEB/8QAHgABAAAHAQEBAAAAAAAAAAAAAAEDBAUGBwgJAgr/xABIEAABAwMDAgQDBQYCBggHAAABAAIDBAURBgchEjEIQVFhEyJxFDJSgaEJFSNCYpEzchYkQ1OSsRdjc4KDssHRJUSTouHw8f/EABsBAQACAwEBAAAAAAAAAAAAAAAFBgIDBAEH/8QAMhEAAgEDAgMFCAMBAQEBAAAAAAECAwQRBSESMUETIlFhcQYUMoGhsdHwkcHhI/EkM//aAAwDAQACEQMRAD8A9U0REAREQBERAEREAREQBERAEREAREQBERAEREAREQBERAEREAREQBFAkNGScBa73S310JtVCIrzcftFzkZ1xW2mw+d48iR2Y0kfedj2ysKlSFKPFN4RspUaleahTWW/A2Ki5Kt3jmqI7y7/AEi0VTwWgk9Jp6ouqI2+RPVhr/p8q2rt54ods9xKi5U9HWy2w2ql+2VD7gY44xF1BpPUHEDkjv6rmo6hbV3iEv6O640e9tVxVKbx5b/Y3AqW4XKgtdM+suNZDTQR8vlmkDGN+pPAXMO6/jOpqBsts2toIq+VuQ+5VbHfBH/ZsyC76nA9iuWNdb6at1uZqnX+o5poIAXNYXCKGM+rY24aD74yuO51qhRzGn3n9P5JGx9mrq6SnV7kfPn/AB+cHorFvhtPPdI7NT66tUtXLIImMjm6ml54A6x8o59Ss5DgQD6rx707V6nu9ay708ctBb2DPxZWdMs+Oxa0/dHue/l6rduld6t29Wa1t9Na9U3etutRVRxwU7ZD8LOfuuibhgbgZPGMA5Wm31tVHwzjv5HZeey3ZLio1Nkt8/4ejCKVTGQwt+NjrwOrHbPmpqnioBERAEREAREQBERAEXy6RjThzsFfPxovxhATEXx8WP8AEnxY/wASA+0Xx8WMDPV+ifFj/F+iA+0Xx8WP8SfFj/EEB9oiIAiIgCIiAIiIAiIgCIiAIiIAiIgIDIHKiiIAiIgCIiAIiIAiIgCIsL3d3Ktm1OhLlrG44eaZhjpoScfHqHA9DB9TyfQAnyWMpKCcnyRlCEqklCK3ZzD4u/FTfrLfZ9stt7lJb30eGXa4wuxMJO5hicPu4GOpw5zwMYOeWoaq6XiZ1yrLlPNPO4ySzyyOkkld5lziSSfqsZv13rL3eay93SczVVfUPqZ3uPLnvcXOP5klXy31IFPGG5a3GQqRfXU7mo5Se3RH1LTbGlY0VCC36vxZPqqYVDuqojFRwQQ/JGPopEYbTAx0MccMfmyNoaM/ko3TUNpslA64X250lBTdQaZ6mVsTMnsOpxAyVq3Xo1vuPXW6LaC/voqO21LjW3FspZTVEmWhrIy0EzdPz9QA6CTjJIwOejSdZ4bwvF8jquLlUI7Lil0iubNm3S83CjgAoaJ9VK/5Q1hGM+5PYe5XxatGOdi73updPVvPWyMH+DCf6R6/1Hn6Lae71o1batNaetWqbVUi7xS1E9RXOofgxNErYuikY8NDX9AY55DSWtMhaOxzrKaa71c0VqoZvgtDOqacjPSM9mjzd9eB79lrq0+zlwmdGt21NTX3yfE15vUUz7JZ6d9fcZPuMxhkQJ++93Zrf144ycBXvRVhumnLow0FZWVeoKh4JfFlry9x4EXTyADwBn9VbWTR6QYaqGVwhPMznkl73fiJ/wD3C3H4cdeUFo1raLpWaG+33K4VTKelkqJcOhbI4NBijAI68HJLj54AHJXRZQU6qi3g5rytOlRlOEeLbl/6egGjYbvT6UtEF/mMtzjooW1jycl0wYOs/wDFlXlQGfNRV8SwsHyhvieQoE84QnCivTwIiIAiIgCgTgE+iivl46mkeoQHnl409dXfVO8ldoq2XeuordA+yaQbNT1RjAqKqX7bXFoaclwp46ZufLrI9Vzzc92NSUlJvJu4zUVwa9taNKWKI1T3Mpg0iNz2N6sZ6fhv7fyuHqt8+MDTL9md0JN0tS3y11FpprZdbxYbe6TFTVXqeRsb3SM7uDY5YmNdyA0fy9JXLF00hW0u3W3O1b3Tzag1vfRqO5xyRjEUTxz1cZHyEOOfwSeQUrb8M4pdNl/cvoln1Nc00TdxrxrTR+zuh9oLbqu8S6o1XUR1lUDXTdTOt4cI+rJcPmfGz/w3nhZLLWXfanW9zse29RLd7xRaUFbW1V1ulS5lJOCGMLT1EAyAPe5uGk4HzAEqnoqZ24HjFnnkikqKDR1vI62ZDGStYB37cSzO/NnssR1JqeqtG2uttzqabrrNcXuano5G8uFHE50MLf8AhY8D/MCtVZuSSfXd+svwkZRwnn92LNoDdG7aVoblvJrLcu637VlyklpKCyQVUx6JycEOZwAeMfKOlrc4LicDFr3rPWTdOVunLpquvqNW3eoN3u1fLXzBtnhJDiOpp4JHHQ3P3j/Tn51npaSlqtu9p6fqjqnMF0uMsfEoc4kk9Q5HaUj6hYtfmxSt3BlopzDaYKiKncC0PmqqlrukAyHLunqaSQD2K528sywV9y3K1mw0stHuXqL7Dbref3fHNV9DwSMGoe0HADuehrup7jjtnqFqptabwPp4nUd51PLAWNMTxPUP6mY4PVnnIxz5raXhf2Ij8RHiJtmgbnbYIqBk1NdLx8LqDaelpYgZoGc/zdcUWT5vJ4wvc61be6Kstro7PatMWykoqCnjpqanipIwyKJjQ1jGjp4AaAB9Fi5cOw9TIkRFpAREQBERAEREAREQBERAEREAREQBERAEREAREQBERAEREAXCv7QfXtRJqWxbfU9QRTUtKbjUMB+9LI5zW5+jWn/jK7pc4NHU44AXmx417rpe/wC+slZp69tuMlLQRUdbGzmOCpjc8Fgd2dhvTkDs7IPOQI3Vaip2zy+ZNaBSdW9WFnCZoAUMkuHYIHv3KvNAJAAxxwOy+6ejMn38nPJVwhooovuNwe+AqROopM+lQhwIsGutvrBuRYW2DULqltO2ZtQx9PIGPY9oIBBII7OcOR5q80NrtWktMwUFJI2nttppAwPlfwyKNv3nOPsMkq4xxt6R1NAPZSbpbaW822pstwp/j0lbE+nnjOR1RuaQ4ZHI4JWaqSlFU23wp5waZQhGbqxS42sZ+xq7Wd0j3osB0Rtvd5Ko1r43VVzgc4QU7Gu4jOB1Pe8jAjbzjkkDAOxLNom/bVWij0pqyWrkuFtoo/ivqW9MsjXM62npySPlc3AJzjGeVK282+0/t5RMs+mw+ipzUmoMksr3ua84HWXcngNb2Hlxyth7rVFhr7vbprPf6W7MFroaOZ0EU7OiSCnjidn4sbMglpIIzx3x2XbNxlTdOl8KeVnGX5/+bHFQhNVlVrfFJYeM4WMPC+u73+xrwUNxqqyC66kiY6DrBgoWu6ms9HSHs53t2Hv3XZ/hM2LuEdzj3T1HTCCl+H12ile3kvdwZseQAz0+pOfIZwbwz+H47kVg1PqmMu0/QTANjI5q5G4PR/lHHUffHrju6nhipoI6eCJsUcTQxjGjAa0DAAA7BS+ladhqvU+RX9e1jZ2lH5v+vyTERFYinEDjzUVDAPdAMeaAiihlRQBERAF8uPS0n0C+lrzfzcuHaTajUWt3vb8ejo3MomH+eqkPRC3Hn87mk+wKxnNU4ucuSM6cJVZqEeb2PN7x16uo94d6brQtkMlt0239z0hacjqj/wAZw+spePcNC0lpjWNy0JrSTXmsPtmoZKOyvt9snLet8EoADOv5gcdPUzqGT85JBJJU/wCNNVTvqaiV8sszi+R73ZLnE5JJ9SeVOfEx8ZD25B8vIqj0tYuaFeVam/i5rpjwPo9TRLerbxoTXwrZ9SVtbqV1o2e1TfrZco5tb6/uzLOwBwEsL5Xlpe8Zy0/PPJn/ACqG5Vvtt611ofZKxAutenI4quuPy46GNaR1Y83fLn06j6rGr1piidUMuduLqG4U7uuGpgPQ9jsdwQsNfqrXGlbvfbs809fcL7SGjkrZmH4sQwQHs6SADzntgkD0Vpttfp3ks1Vwy/V9EVO90CpaL/m8oye2aopr7uPrjeSo6TaNPUbqCgcRgSdIDWYH9Qaf/qha4pWvt2n7XSV8PWf4mq7gwjmTnopoznuHOIP5qcNTWaLQFs2+/ddbTQtuIrLxM1zXuqmjkNYPlxn5Rz26R3XZvhw/Z2ay310zbt1tb6kpNPWDVczLiymhjdLXfYInf6rE0OAYxrsB/Vk5HT8pypSFanP4WQ1SjOl8aM4/ZCaAr36i3C3RuMHUGQQ2GKpI4lndIZqoA+ZD2Rn/ACvavTZYntjthoraLSFDojQVjhtVqoGBrIo+XSOwAZJHH5nyOxkucSSVlixk+J5NQREXgCIiAIiIAiIgCIpNZWUtvpZa2uqI4KeBhkllkcGsY0DJc4ngAAEklATkWr9rPEdtVvBe7zp/Reo2VVbZ5iwxvYWfaYxgfGhz9+PqyMj2OMFpOzwQRkLGE41FxQeUZ1Kc6UuGaw/MiiIsjAIiIAiIgCIiAIiIAiIgCgSGjJOFJq6ymoYJKmrnZDFEwvfJI4Naxo5JJPAAHmuDfFX4zH6jZV7c7S3B7LYeqG43iLLX1I7GKE9wz1f3d2HHLuW7u6dnT46j+XidtjYVtQq9nSXq+iMs8UvjFZQOrdt9p64SVhaae43iGTLYDnDo4Md3+RfnDfLJ5HF9ECJDLM8vc49TnE8588q20ED38jgeeVeqWJsPOSXevoqLe31S9qcU+XReB9M07TaOnUuCmt+r6svFJM12cHg4wcKqbGXnHVyPIK0wygjpcOR5kKe2qdFx1d1xpNncy8RxQvw1uWnOCFUtjLGkhWWhlkmnDW9vVZPabLfdS1wtWnrRWXGpcPlipoXSPx5kho4HupG3oSmtkR1xXjTe7LW55OQPmHA4WW7YbSak3U1PDZbLC5kAc19XVOGY6eLPLne/oO5K3Ttd4NtS3Z0dx3DnFppAQfscT2PqJB7kEtZ+p9guttI6M03oa0R2XTFphoKZnLmsHzPd+Jzjy4+5KnbTS5SfFV2RWtQ16NNOFu8vx6I+9IaWtujNN2/TNqZimt0DYWHGC7A5cfcnJPuVeURWFJJYRT5Scm2+YREXp4FAHPkQoogIYAOVFEQBERAF5/ftH91RcL7YtorbUfw7cz963IB2czPHTAw/5Wdbv/Eau7NU6jtmkNO3HVF6qWwUFqppKupkd/LGxpc788DsvFzcDXNz3K1/fNdXgkVN6rJKosJz8NhOGRg+jWBrR7NCg9dueyodkucvsWT2as+3uXWlyh92WymZk91OmkLW4apMLwyPJ+8qWuqS0OcMZxnCpaTbPoOCmrakEF5I9Fg2oZWTvyW8hXy4Vkjg4ucGt5wAsSutSXgknkBd9CD4kRt40o4Mj2F2ZrN+969M7bUjZG09xqxJcZmd4KGP55358j0Ahv8AU5o81782e026xWqjstopI6WioKeOmp4YxhkcTGhrGgeQAAAXCH7KbYr/AEb0Rdt9L7R9Nx1W51Bai8fNHbon/O8f9pK3+0TT5rvtXWypdnSTfU+d6jWVSs0uSCIi7DgCIiAIiIAiIgCIrJrDWOnNCafrdT6qu0FtttvjMs9RMcNaPQDu5x7BoySSAASvG1FZZ6ouTwuZW3q9WrT1qq73eq+CjoKGF09RUTyBkcUbRkuc48ALzE8W/jIu+8lXU6H0FUVFv0VDJ0yuyWS3VzT95/m2LP3Y/Pu7nDW2LxS+LHUW/NwfYbJ8e16MpJeqCi6sSVjmniafHc+YZkhvB5PK55e0gKqalqrr5o0X3er8f8Lxo+hq3Sr3CzPovD/fsXHTOqr/AKMvlHqPTV0nt1yoJRNT1ELsOY4f8x5EHggkFepPhR8XFj3ytkenNSSQW7WVJF/Fpw7pjrmgcywg+fGXM8u447eUDgXDIVVZbzdLBdKa8Wa4T0NdRytmp6iB5ZJG9pyC0jkEFcljf1LKW28XzR36lpVO/hvtJcn+9D3mBBGQorlXwj+Me27wU0GiNdTQUGsYWBsb+GRXNoHLmDs2TzLOx7t4yG9UtIcMjsrlRrQuIKpTeUz59c21S1qOlVWGiKIi2mgIiIAiIgCIrde9Q2PTdumu2oLtS26ipx1S1FVK2ONg93O4RvG7PUm3hFxWMbgbk6M2wsMmo9a3ynt1GzIaXuy+V2M9EbBy93sAuXN4/wBoVpyzfHsm0tsF5qR1MN0q2OZTMPrHHw6T6u6Rx/MFxbrncTWu6F7df9ZXyqulU/hhld8sbfwsYMNY32aAFC3utUbdONPvS+hYtO9nLi7anW7kfr/HT5m3vEZ4tdTbz1Mum9O/aLPpON2BT9eJq3HZ0xHl6MBwPPqOCNEU1J1O6n8BTKWgIP8AEIwVc6anZF8zjn6qn3N3UupudR5Zf7Syo2VNU6Swj7pYGtGcE+XZVbW9Idx9Ejc0M6nYBHupT5i5xweO4WiOWzdJ4JsU2Sel3AOCp0Eb6mQQsaXOJAAHJJ8sKkiJkkIxj0912B4OvD/BdXR7q6toOuCF/wD8IppBw+Rp5nI8wDw3PmCfIKTsbOV1UUIkVqN/CypOpP5ebMw8O3hMsVs0wzUG6FnjrrpcWNfHQTE9FJGcEBwBGZD5g9u3fK6Tsem7BpuibbrDZqK307AAI6aBsbTjzOByfcq4gAdlFXihb07eKhBcj5rc3dW7m51Hz/ggABwBhRRFuOYIiIAiIgCIiAIiIAiKw641jYNA6VuerdS1raW32umfUTPPcgDhrfVzjgAeZIC8bUVlnsYuTUY82cn/ALRjeRti0fR7P2etxX6hc2ruLWHmOhjdlrT6dcjR+Ubh5rzzhaAeo+fCyzdLcC87ra+vGvr+8iouk5eyEu6hBCPliiHs1gaPc5Pmso2U0npK/Ut0rtWU9tbFBX22kgqLtUSxUrhK6X4sDDE9jvtD2sBjLj8NoY8vLeCqLeV3qNy3HlyXoj6Zp9stJs0prfm8eL/cGsJJWt5znPkrTWzuJOXYz5K2b0Xq76DqK+Cz2iSKaC6S0X2arPXJTBr3DoeGn5njp6TjjOVQ0V1q7jaKS4VtKaaoqIQ+SE5y0n6//wBWj3WcKaqvk3g63eU51XRWcpJ+W/mfFymyCOr+yqtrttrzvLudp7bKxB32m/VrKd0rRn4EI+aaY+zI2vd+WFaKuQv7r0R/ZZ7Dvobfd9/r7RYmuJdabH1t5bTtd/rEw/zPaGA+kb/IqR06h21VRIXVrrsKLn16ep3jo3S1m0TpW0aR0/RtprbZaOKgpIh/JFG0NaPc4HJ81ekRXHkUFvO4REQBERAEREARFgu8O8uiNktIVOrta3MQRRgtp6Zg6p6yXGRFE3+Zx/sBySBysZzjCLlJ4SMoQlUkoQWWy5bjbj6R2s0tV6u1pd4qC3UrTl7j88j8Hpjjb3e844aP+WSvKnxH+JvVfiC1AfjOkt2maGQ/u61B+R5j40xH35SPyaOB5k47v34g9ab/AGrXX3UMxprZTOc22WqN5MNJGf8AzSHjqeRk48gABrISOB5OAqjqWpyun2dPaH3L7o+ixskqtbef29PPzKrpBPdfLmA8HhRY/IyvrHXwoXkWNFM8eQHbuVIeG9sZ91VzDyBUpsQIDie6zTPXEmWy5V1prILhQVMtNU072yRSxPLXseDkEEcgg+a9PvB94u6Ld22waG1xWRQaxpI+mN7iGNubGjl7R2EgAy5o78uHGQPLx8TmjICrLJdrlYrlS3a1VktJWUcjZoZ4Xlr43tOQ5pHIIIyu6xvp2U+JcnzRFanpcNQpcMtpLk/3oe8AIIyCornHwi+KW2736ebp7UVTFT6ytcY+1RYDRWxDj48Y/wDM0djyOCF0aDnkK6Ua0K8FUpvKZ83uLepa1HSqrDRFEUuoqIKWF9RUytiijBc97zhrQOSSfILaaSYrVqPVGntI2qW+amvNFbKCAZkqKqdsUbfzccZ9ly7v54/NF6C+06c20jp9UXlnVG+rDj9gp3cjhw5mIOOG4b/V5LgLc3ebcPdq7fvfXWo6queHEwwl3TBAD/LHGPlYPoMnzyoq81ajbd2PekTun6BcXuJz7sfPn/B3PvH+0U0pYzPaNo7Ub5WMyz941nVHSMcD3YwYfL+fQPquLNxt6Nzt27h9v1xqeqrwHF0dP1dEEXsyNuGj64z6krAqWMuwWjJ88q7wUfUB347kKrXmp17nabwvBF5sNEtbLeEcvxfMpqelmlf1OLuO4/8AVXukpi3jKjBTfDAI8/PCrY25byMKJlNyZMqKiibBGWs6S7qPkVUiVoaG4yR3KkxtDG+px6+ajxn5hyUjHLMJMi2XqJDRnzXy4nAI/NSC4tOc45wrlp+1V9/udNabbSSVNXVTNgghYMuke44aAPckLso0+N4Rx16igss2b4etnrhu/rintP8AEjtVJ01FyqGj/DhB+6D+J3YfmewK9OrTa6Cy22ltVspI6alo4WwQxMGGsY0YAH5Ba/2B2foNntB01ja1j7pUYqblUN/2k5H3Qfwt+6PzPclbMV50+0VrSw+b5nzTVtQd9WyvhXL8hERd5FBERAEREAREQBERAEXy97Yx1POAtCbx+MLb3bV81nsDhqa+x5Y6mpJAIIHjuJZsEA/0tDj64WmvcUraPHVlhG+3tq13Ps6MW2bzuNyobRRT3K5VcNNS0zHSzTSvDGRsaMlzieAAB3K8zfGH4nH7y3mPSGkZ5maRtMpf1kFpuNQOPikHnobz0A+pcfICy7ub9bo7w/Eg1RfRTWxxDm2uhDoqXg5Bc3JLyPV5PthahqYI2gl5GQT9MKpaprfvMeyobR6vx/wvGjez/uc1XuN5dF0X+/Yx97HHI6Svhm4OrtAWm5VemLjVRksFQ+miw5skkQcY3dLgQHt6ndLgOpvUcHkqZcJ2F+I34aOc4x9VZK+rY0HBCiaMnGSkWSvBTg4swTS+prnuBW1GrL+xxqIJXNj6nOcHSvy6SYudkuec4ye2T6lXuonJcA3ySqqyPlaAAVSPe7n1XbVmqs+KKwui8CKpRdGmoSlxPq/F/uxl20O1t93o3Lsm3NgY4T3aoDZpg3Laanb80szvZrAT7nA7kL3P0TpCy6B0nadGacpW09ss1HFRUsY8o42hoz6k4yT5kkrkz9nB4dDt/oJ272p6Isv2r4R9ibI3DqW25yzjyMpAef6RH7rs4DAwrRpVr2FLjlzl9ik6zee81+zj8Mfv1IoiKUIcIiIAiIgCKBOBk+S0j4mPFTofw5aaNTcpWXHUdbG791WaN+JJnDj4kh/2cQPdx5PZoJWFSpGlFzm8JGdKlOtNQgstl+3/APEJobw+6RdqHVVUJq2pa9lttkLx9orJQOzR5NGR1PPDQfMkA+SO8u9+ud9dXS6u1vXhxAMdFRREinoof93G0/q48uPfyAxjc7dbWu8GsKvXGuru+tuFUcNaMiKniBy2KJmcMYMnAHmSTkkk43FM4/zYVR1C/ndvhjtHw/JedK02nYrilvN9fDyRcBVNHA+qmxSCQ4cfdUTRnlp5U+MkDk//AIUW0T0ZFe2WNv8AN83oqhkgxlWtsfUS7PdVkAPQGlx91g0bosqJWF+HMARrAOOcBTGOH3f0UXM98YWOTckSHdiHAEeSkOAB+Xy7qrcwOGM/RSTGB9T2WSZ7w5LrpDVuoNEahotT6Zuc1vudBKJqeeI4cxw8vQg9iDwQSDwvT7w5+NPQm7Ntp7Fq+upNP6sijxLFUSiKnrCO74XuOMn8BPUPLI5XlV8LpHU885yPZTYHAfNkdXb6Lts7+pZSzHdPmiJ1LSKWpQ7+0lyf70PYXdHxW7I7UU87dQ61oqm4RtPTbrdIKqpLsZDS1mQzPq8tC88PEB4zNyd75ZrNRzP0/pYvIZbaaQ9c7fIzv7vP9Iw32PdaIEMcznAj6ei+46EtOQM/TnC6LvWK1wuFd1eX5OfTvZuhaS4596Xn+CWA7Ac5pcVPhY2R2HMJ81UxxDp8xnsMKvpqJrSwnBxzwoaU8FljTURR0nSOpwPtyrlC1rT0eqjDCS3LRzjgKcISHNeAe/8AZcspOTNmyKpjcjDQe3ZTMN6SXHt5KS2VzZWtwC3H5qMkpJc0NwOQvYx6muUicx4JIP6KRJOD83V933UmSYtPTnHUAVK++75RnPuuiEc7HPUngqYGvqJQPLPGPNd2+C3w+/uekZuvquiLayqYf3PTys/woj3nIP8AM7kN/p58xjRXhO2Fqd0tYRXS80jzpy0SNmrHuGGzyDlsA9c93ejc+ZC9LaeFlPBHBExrGRtDGtaMAAdgArZo9gku3mvT8lH9oNUb/wDmpP1/B9gAdlFEVhKiEREAREQBERAEREAVuv8AqGy6XtFVfr/cqehoKKMyz1E8gaxjR6k/8u5PAVs1/r/TO2umarVeq7iyjoaQck8vleQemNje7nuxwB+gyV5x75b86v32vJbP123TdJITQ2qN+QcdpZSOHyH+zew8yY7UNRp2MN95PkiW0rSaupz22gub/peZnXiB8X2otxpanSm3E9VZtNkmOarBLKqub2PPeOM/hHzEfeIBLVzvCxkGAcHAVSyj+EGjPdSLgwNb1AnHsqHd3dW8nx1Hn+j6VZ2FCxpqnRWF9X6lNVSswSThYxd6pgBDSc4Krquoc2MhxdnPmVi12qQGl3UefILRTg2zqk1Esl4uL2lzPL1CsT53TDpLsefKn3Gb4nVjgcq2Od0ZOf1UjCOERdaq3LyJkv3vVb78Gnh0qvEBunBFdaWQ6TsD46y9zY+WQZzHTA+shac+jA498LRVjtl21Pe6HTlgt8tbcrlUMpaSniGXyyvIa1o/Mhe3Hhj2Ktnh+2otmiKb4ctycPtl3rGf/NVrwOs579LcBjc/ytHnlS2mWfvFTil8K/cEDq9/7pR4YPvS5eXmbUpaaKjp46WCNkcUTQxjGN6WtaOAAPIAKaiK2lHCIiAIiIAiIgOe/GZ4qKDwvaForjBanXLUWoXT09mp3ginD4wwvkmcCD0N+I35QcuJwMckeOWsNwdWblaprtZ63vk91u9yk+JNUzO5Po1oHDGAcBrQABwAvXnxxeEu4+KbSFli09qiK0X3Sz6qegZVM6qWqMzYw6OVzQXs/wAJuHtBxk5acjHkDuRtduNsvqWXSW5Wl6uzV8eTH8VuYqhgP34pB8sjT6tP1weFCanTqze/wlg0ipSprb4upTQz8gHsqtsgzwVjkVa4EYdwfJVra8uaGgHIUBOi0yyU6yZfoan5sc8+irQ/IzlWKnqCQHf3VdHUh3crnlE7adXJdoXHAyM/mqqLIPV5q1RSkc57Kujn4BzjPKwaOmMyua0gg5dn6qd1E5Pl9VTwyh4yT2UwvaPlyc4WpnVGWx9kAt+99OU6eAQRlfIdkKJGBnqxz2C9NqeSBaH8O7+SiYAGZA59kYwPdyfdVLekYBXmcGaRTU7XjAd591cI+Pl/EvmKPqecAAKc2P5yMnjBWMnk2RWA7qZyCeOeFcKctcWnH9OPdU0UTpjkN4PBz2VwpxHEwFww48ZwtUj1sqoxgZcSCqmTiMHJ5HdUVRKG4a3k4JPPmplE6GomhpqitipGyuDTNKHFkY/E7oDnY+jSfZYKOWapSxuz5Mh5aHYPqU+KA0uLsEK66u0nJpantNcb9brlDe6V9ZTmkE7S2Jsjow5zZY2EZcx2ODkNz2IWNPD3/Ixx9iF0KlLOGc/bRkuJFS6b4oAHBC2FsrtJqDdjVlLpmyQnpkd8SoqS0llNDkdUjvp2A8yQPNY9t7oO/a51FR6csdA+rrq2T4ccTRx7ucfJoGSSewC9SdidlLHszpGKz0bI5rnUtbJca0NwZpPwjzDG5IA+p7lT2mad20uKXwores6srWHDB95/TzMq2/0Fp/bfS1FpLTlK2KkomY6sDrlefvSPPm5x5P8AbsAsjRFbUlFYRQJScm5S5hERengREQBERAERY9etwtCabvts0vqDWNmtt4vTnMttBV10cVRWEdxFG4hz/wDugoDIVaNU6qsGjLJU6h1LdKe30FK3qlnmf0gegHqSeAByTwFrDdrxQ6C20bLbqCcX6+Ny0UNI8FsTv+uk7M+gy7281xVuNuXrrd+8C5axubn00by6mt8GWUtNn8LCeTj+Y5d744UTfavRtE4x70vD8k7puhXF81Ofdh49X6L++RkfiD38uG+F0jtFvp5KXSlsn+PSRSN/i1EoDmiaT0+VzgGjsHHOT21fT22NkfUGtHoCFWR0sUQ6WNIwPNfM8jWMAc7AVLuK9S6qOpUe7PoVra07OkqVJYSLXPBz1OwMf2VmuJa3qZnn0V0rqsfcAyc/otn7gUdC7bFktA+6UNqpbTap6V/x4jb7lVyCMVEbWCMO+Ox7pnOJe4gRkEAYwpWzqJvwPatz2Moxa5vBzxcYx0OA4z3WHXRjnOP9laJt3JKzdKbQcFoa+kaTCKpknU7razqLiBx09x6j9FfbiQAcnlbJ21Sg1xrGVlehohd0rpS7J54W0/VGIVwEfUAO36q1UlFcbxcILXbKGorKyslbBT01PGZJZZHHDWMa0EuJJwAOSskjs911Fdaaw6ftlTcLlXyiGmpaaIySzSHs1rRySvTvwWeCOg2UpKfcXcWlgrddVUeYostkitEbhyxh7OlIOHPHA+63jJdJWFnO6lhcurIfU76nZRy+fRFD4HfBI3ZiOLc7cyCCfWtXAW0lJgPjs8bhhwDuzp3NOHOHDRlrScknswDAwgAaMBRVvo0YUIKEORRK9edzUdSo9wiItppCIiAIiIAiIgHdYfudtJt3vFpmbSO4ulKC9W6XlrJ4/nhd+OKQYfG/+ppBWYIvGk1hnqbTyjyk8RP7L7XGiX1OpdiKyfVdmb1SOtFU5ouVO0DJDHcNnHoAGv7DDjyuJK6luFmr57Xd6Gpoa2lkMVRTVMTopYXju1zHAFpHoQv0akAgg+a0tv8A+EbZrxEW93+mOnxS3prOinvlv6Ya2H0BdgiRv9Lw4d8YPKjbjToz3p7Eta6pKn3au68Tw4pqsng8BXGGp+bGVvPxE+A3ejYE1F6pKU6t0pGS4Xa2xOMkDPWog5dH/mBcz+odlznBVkDHKgq9rKDxJYLJbXcKqzF5MkFV2Cr4Z2kDqPYLHYakuwSVcYqkuABPC4JwxsySp1cl7bM5oPSTj0VRDMC0dZ58laGVJc3BcqiOcjHK1OJ2xmXhshI+XyPGFPBOB1Hg/qrZBMQeTwq2OXOPbhYNHTCZVMa3OQ3k8qZ0AvzkqVB0luc5I4VS3PcDgLWzfFk2IkEgcknKr4oi85IHzdsqgiBe9pHAI5V2gJDcFuW8YPmFrkzNSJ7GABoAAI7qLnsd05xlS5C2PBDxgjyPKp5J+nODwVhg9bKiWdoIYe/mMZVHJVwRh0kzwyKP5pHZx0sHc88dlSvqHOeeT2/upjKZlS10M0Yex7S1zSMhwPBBW6nTy9zmqVMLYtu5W51HvbcblS7dfGZTVEEdvpS0uYy10UTGxxBzyB1O6GDhoy5xc7jJKyjYvaPVtcy26Etzqm/XOR7mx9DT2JJxkn5WNHck4HJ4CvGxGwFVf7y3SG3VhPxq6b40zi5xZE3sZJHnPS1o/wDYAkr1G2J2A0vsrYvs9GxlbeKpg+23FzAHSH8DB/Kwenn3Pliz2tp7y3GGVTznL5t/vhsU68vlYpSqYdXGMLOEv3x3KDw7eHiybL2P7RUthrNR1rAK2s6ciNvf4MWeQ0Hue7jyeAANy9uyiisVOnGlFQitkU+rVnXm6lR5bCIizNYRQJwMlWjUGr9MaVpTW6ivlHb4QMh08oaXfQdyfoF42orLPYxcniKyy8ItM3HxW7U0EzooKy41zWuDRJT0eGuPt1lp/RZPpLfLbTV7mQW/UsEFU8EimrB8CQ/Tq4d+RK0xuaMnwqSz6nRKzuIR4pQaXoZ+oFwaOSFqvXniQ210QX0wurrvXM4+y24CUg47OfkMb78kj0XOW4fik3G1ox9vsQbpu3v4xSuLqh49DMcY/wC6Gn3K5rnVLe22by/BHZZ6Nd3mHGOF4vb/AEue737SrSu1XiGufh9ftPqC811vhiYytpquKIT1clO2ZkbY5AAI8PaDKX8fMekgc8kb96Y1d4nN17TvFuDcqTT9ZaGwU1Ja7M2SRsNNFK+VjXTvcC6bre7MjWNb2w0Yyczk01QVF3Goay3U091DSwVr42uqOk9x8Qjqwfr5rb9wpbDBtBU2y2363TNp6u3VL2NZKJ31L45/i5DowOMsaMOI6Ys5BdgwdfWK10mqPcSXk2yx2+g29m06/wD0baS5pLlv/JqBlJGxoaWDvnt3X1I1kbcj5QFUTPYz5+T5YVLU1EccZD8Ycq7jJbEyjmqGtDsvzzxhW24VH8IEEh3kVIu1Xggt4OcceitlRVF0YatkYHkp4I1EzXM6y7BWl7TpTc+u3FuY1VfqyTStRO57Yaerx8aMvyyJjR8zOOHY6c9snK2pVSkDDnYCsV+283c3boBpnZGgulXfWVEUr3UDnRlkYP8ANMMCIZLT1FwHGM8qRslLj4I4722Ws480RWpODp9rPPc3wnjPk/IybxD1OntI6Mj3E0rYrVQafFdW0FstkFlhtVRH0mNwjeI8iVobKz5+onIfkA98S8Ou2e6Hinja/QulJKeFkzoa24VLnNoaXHOTLj5jg/daC72xyuwdj/2cOqL62zay8XOv7lq+9UsDWi1vuUtUyAf7ozvPAxjq+GASc/OQu6tKaS0zoex0umtIWKhs9qo2BkFHRwNiijHs1oAyTyT3J5Kn4aTCpl1eeef70+pVKuuTpJKg9sYxjZfPbdcvA0v4ZfCDoTw9URuocy+6rq4+iqu9RCAY2nvFA05+Gz156neZxgDf2AOwUUUvTpQox4ILCICrWnXm6lR5bCIizNYREQBERAEREAREQBERAEREB8SRRytLHsa4EEcjPdcl+Iz9nTtFvC2p1DoyGHROqJMv+PQU4FHUv5P8anGACSeXsw7zPV2XW6LCpTjVXDNZNlKrOjLig8M8J96/ChvnsDNLLrXSUtRZmOIZe7aHVFC8ZwC54AdFnyEgaT5ZWqYKtw7nIX6KKqjpq6F9NWQMmhkaWPje0Oa5p7gg8ELkrfX9m5sxujJUXrQ7HaFvsuX/ABKCIPopXk5JfTEgDPrGW/QqHudKzvS38ietdaxiNZY80eS8dW0+yq4qwHAfgei2pvf4PN8NhZZqvUmm33OxROPTerU109KG5wDJgdUJ7ffAHoStMMf1Y61B1beVN4ksFjoXUakeKDyjIoKojBDsq4U9TngOKxqGYMAaPJV0FWGEZdlckoHdCsZJFUYwq6F/xsYcQspqttKe22mRj6bVFzutNY6e+XB1qtQno7Yyop/tFOyd/VnBiLXOf8obl2A7pOZf/RHrSjqTBW1lhpGxUUFfVyz3iBkdHFMGOgEzur+G+QSNLWH5iMnGAcJW1TojdTvqT5ss9PxgEjhVhqcNy8jHory7a/W9HV01prLfDFV1dbXUETXVDD1S0cTJZuQcdPRKxzXdnA8ZVRVbS65bbqKtpqahrH17bc+Okpa+KWqayuDTSufEHdTA8va0ZAwSM4yCdHu9Vv4WdHvdHbvLfzMZfUsLstcQ33VK+XrflnZZZrbbp+jtJ2C6z3OjrK66XC5U05oq6Kqp2sp203T0ujzh/VNIHAnsGkDBycZt9E+oeI42F7icLbG1lGWJGqV5GpHMHt+o+6enfMW/KSeMrdGxvh61hvDeW0llovgW+Bw+23KZp+DAPT+p/o0c+uBytq+HXwU33WUVNqncET2eyOLZI6Xp6aqrb3GAf8Nh4+YjJHYea730vpawaOs1PYdN2qC3UNM3pjghbho9SfMk+ZPJVgsdKcu/V2RVtT11U806G8vHovyY5tNs7o7Z7TzLFpeiaXvw6qrJGgz1LwO7j6d8NHAz9VnIAHAUUVijFQXDFbFOnOVSTnN5bCIrRqLVendJ0D7lqK7QUFO3gOldguP4Wju4+wyV62orLPIxc3wxWWXYuaO5AWrtd+Irb/RNRLbW1El3uMTjG6nocODHej3n5RjzAJI9FpXd/wAS1fqFs9k0q6a2WsgskqSemoqW+n/VtOew+Y+o5C5pq9YU7a401KQ4xNLifr5/RQV5rMab4KG/n+C3aX7LzrrtLrby/P4N470eLjdCm0Rfr5o20spn2+hmnhpKUOknmc1pIBfjI9T0AHAOFy1tf4i9bbl6TZqnXOgNU11znmkjNZb6R08FQxuMOa6WTqzkuBGSMt7+QzYa2ihA+JVxnPo4LO9r3WLV9bLbK/rMjmkwuiuEUL2/I4gRwOaXVDy4DDGEH+4Kjo3vvHcqbtvx/pE1U0j3H/tSfDFLdJJ588s572y3j1frvePUGgbxoOe02u2QvlgllhfHUQdLgGGbJLf4gJIA9OCRkrdr6SIyNwwOawcZOVazfmOLy1/Q/JHfkgeq+aK8yOOCwuc84Prhc9avCbzBYOihZ1acWpy4t/T5F4jMRkw6LAPl6FU9c5zPlZH158vJVVGwSOy9pHVz+a+5/gsJBA+XnOVwyjnc64UpFnjZWF4L3tY1w+6CpVXiMhsk3lnurZery2jkf0kk+bc9vorFLe5JnkF5II+VYKJt7OS5l4raprRkO58sFWKe5ueXCR3bsFRVlwefldJgAdyVk+3mz25m61SItF6YqJ6UvLX3CoHwaRnrmV3BPs3J9lvpW86r4YrLNFevChHim0l5mH1dSOXSOGAPMrKtvNld1N2ZmN0VpOoloiQ19yqf4FIz3+I7730YHH2XY2y3gk0xoivbqLcisptVXFseIqN1OPsNO/IPV0uyZXDBALsDBPy5wR0xTUtPRwsp6WFkUUbQ1kbGhrWgcAADgBT1rora4qzx5FWvvaRRfBbLPm+X8HJ22P7P/R9qEF13Tvs2oqwYe6gpuqCia7zDj/iSjPnlg9WrqDTmlNOaRtcVl01ZKG2UMIAjp6SBsTG/kB39+6uyKdo29K3WKccFXubyvdy4q0m/t/BAAAYAwooi3HMEREAREQBERAEREAREQBERAEREAREQBERAEREBLlghmjdHJExzXAghzQQR7rmreH9n1sBus6e40FkOkbzNl322ytbFG53q+n/wz7kBpPqumUWupShVXDNZRspVqlF8VN4Z5Bbvfs59+NuDPcdLUcWtrTEC4S2sdNU1uf5qZx6ifaMvXMlZbLpaa2a33OhnpKqneWSwTxlkkbh3a5p5B9iv0LkAjB81gu4+xu0+7NGaPX+hrZdjjDZ3x9FQz/LMzEjfoHYUVX0enPek8E5ba9UhtWjnzWzPGKl3muQtkcNbpSzVt5p7PLYKe+SfaG1LKF8DqcMc1krYZHNhe6Nr3sLg3pGT0jH1BvRU3C+Xo3jT1lvFNeaS309fapZJmMBo4mRwSgxSNlY4BnJDsHrcMYPHaW7n7MNjA+57L6lJGS51rvEgz37Rztb+jm/95cpy+AzezQ2s6u6VG2+o6uoq3Pa11JEKuAdRBJD4erjjjqPC4J2NennjfphZy/MlqeoW9ZxdPG/PLw0ue3z8Cbbt/wDVDqiWuummbJcawVtbW0VRKyZn2B1VTsp5mRNZI1pb8OKNrQ8OLenIOSp1n3c1Vbas3G30tFDVCkslNHJ0OPw/3Z8EwPAJwSTAwuzkHJwAtsbceAzebVlVEL1Y2aaoiR8SouTwHAf0xNJcT9QB7rrTbLwFbQaLMVZqplRqutYAf9aPwqYOB7iFh5+j3OHsvaFhc1N5PHqe3GqWVBNLd+C3/wAOJtNaO3E8QzrbpPQW3FHQW61VlVVF1F8YU8TqkRfEdLNNI7H+COkZzjgA4AXbuwfgs0XtYKe+6qdBf7/Hh7OuPNLSvHmxjvvuHk5w+gBXQ9psdnsNHHbrJbKWgpIRiOCmhbFG0ezWgAKuUzQsadF8Ut2V271arcR7On3Y/X5sgAGjAACiiLuIogSB3ICtl/1NYNLUDrnqC70dBSt4MlRMGAnHYZ7n2HK0z4wtxtwNttu6e7aCjlidPVCKtro4g91LHjjGQQ3qPHVjjHqQvNjU29GrL1WvrL1dKusqDn+JUTOkd/dxz+Sir3VI2k+zUcv6Fm0X2bnq1Pt3NRjnHi/8PQDczxg00JloNuaVrsAtNyrG4Z9Y4zz+bv8AhXKes986i9XWatvl/nule0EfFmeS1vOelg7NGfIABc4Xfca81DXxR1EnURzycLamw/g43v39mgvz4Hac0zM7LrrcWkGVnm6CHh0vseG/1KEqVLnUZY+nT99S8UNM0zQqXa1WkvF83++C/gsOot0zUSPH21wyeADyVQ2AasnuVRS3DRt1mqzKyR9LUn7K5kBH8MubKWktdjIxwc+mV6As2M2B8H2kG6npNNsv+r5B8G3112IqKiapPIcxv3Imt7ksaDjjJJGef5xXXS81eo7sx1ZcbnI6oqaghrHue45wfYdgPIcDgLnu7SNolCbzN9PA22etR1BuVvDhprbL5t+S8PMs1hs1NWUbH3TTNvpJBw2MMY8j6kZH6rK7JdoNF5q7XQ2wVLJBPDM+ijfJTSgcOjcRlpHceQIyBnlWuZl6mIZS0UEMf45JMkf2HKpm6ZqqhzpLlcJJsniJgDGf+/6rhp5g8x5nteUauVPk+hZZKmmdM4QQjPWS547ZPv5n2V7sFnqJS2YtLQ45Lnd8K80um6OGBoELGEckNaBj2V0jjhp42tYOkLMx7RdCjma2niAj9OXeZWO3mtNNE6R5z/zWRVxYG4zla51XXh0vw4ycdiPovEmdNDGMssN2qzUSPkz0+5WxdqfDFuxupHFcqK1fuazzNDm3K5tdGyRvfMTMdcgIPBA6T+JbS8HGxlv1tXy7k6uoG1Fqts5gt9LKzqjqKgDLpHA8OazIwOxd/lwe52RtjaGMGABgD0CsGn6VGpBVK3J9Cn617RSo1XQtluub/BoHa7wZbV6CdFc75A7VV2Zz8e5RgwMP9EHLPoXdR9CFvuCngp4mQwwxsYwBrWtaAAPQAKaisFKlCiuGmsIpVe5q3MuOtJt+YREWw0hERAEREAREQBERAEREAREQBERAEREAREQBERAEREAREQBERAEREAXz0N/CP7L6RAQDWjsAooiAIiIAiIgKeuoaS5Uk1DXUsNRBOwxyxSsD2PYRgtcDwQfRc+al8BHh21Ncn3KTT1fb3SP63xUNc+OInzAa7q6R7NwB5LotFqqUadb/APSKfqdFvd17Rt0JuOfB4NLaF8Hfh429q2XCx7cW+oq4yHNqLkX1r2uHILRMXNafdoC2TrPWGn9vdNVmp7/Usp6OijycY6nu/ljYPNxOAAqHX26ei9t6SOfU92+BLUteaaBkTpJZi0ZIAaDjyGXYbkjlcSbu7tXvdW9C4Xg/ZbTRucaK3tflkQ/G8/zSEefl2GOc8N3eUbCDjTS4vBf2TWm6Xd65WVSvJ8C5yeX8ln9RR603C1Budqp+qdQnpBBjo6MOJZRw54Y31PmXeZ/ICgfUsDvhuLRxw3K1Zdty7RbdT0enaOsLqqud0U7Ohxy4ZPT2xnAys1oKar6jJVy8yOLy4kdvIf2VOqTnUk5z5s+nQtKNGmqdNJJbJF/+1QPZ0yNb054yfNTondMo/iAY5AzlUMT6aFzIy8B3kPNT/ih4OA0Nzg55JWCkzRUop8iuM/xJQ573NYOM54P5L7km+K0OYT054PqqI1MDAMycDgZHAVNVXumoowXTADz4JWa3NSovoiF9rYqakklJwcYGfNYLpzTF417qmh03ZIDPW3KcQxjuBk8ud6NAySfIAqpuFfX6suUFnskUtTU1ErYIIo2kuke44AA+q7a8Lfh5n2uts2ptYUkY1LcG/DEYe2T7FAD9wOaS0ucQC4gngNHrmTsbSVzNLouZG6tqUNMoPfvvkv3obg0Do616B0ha9I2iMCmtkDYWu6cGR3dzz7ucXOPuVkKIrgkorCPl0pObcpc2ERF6eBERAEREAREQBERAEREAREQBERAEREAREQBERAEREAREQBERAEREAREQBERAEREAREQBERAFr7d3eDT+1NmFXXk1VxqA4UVBG8B8zh5n8LBxlx/LJ4Vn3z34s21VsFDRmCu1BWMP2akL+Ih/vZcdmjyHdx4HGSOHtTasul/ulVqXVF2kq66pJL5JT5eTQOzWjyA4Ch9R1SNr/wA6e8/sWXRNAnqDVettT+svTy8/4LjqzWuoNdXeu1dqOsFRUvyXMJ6Y6eIfdjjHkAP78k5JytdXq61V/qTatODrcw/PL2Y0HzcfTvgdyrfcr5ddUOfS2AFlJC7pnqznoPq1oH33foPNZHYrTSWa3h1DJ0NA+JN8Q9RkPmXH1VUnOVRuUt2fSaUI28VCKwlyXgU2mdv7Np+tN4qI/td3DS37bM3mMHuGN7MH6+pKm3m8XutnNt0jTRPqmuxNUyOLYIR7nBy7nOAM/lypdbd6m9yC32V4jhLw2oqyfljafIHzdjsP7+97jntlmpHUcDRFHCOHZyHHzJPck9ysd3zNkqii8vmU9PS1droRLeLqHygZmkDOlh/y9yPzKxSLcC+6nq5bVoCzSzQUshZU3CreYoGvzy0OwS49jhoJ9cL7nkuOtqmaKkndFboXfx5jkB2O7Gep9+w+vCvbK61WSgittBTsp4Yx0sjYMAH6e5yc+fn3WUYhy4eb3IxQXmjg+Ler1HM8fN0QxljAfzJJ/RUdLFetV3GKy6eo6u4VNQ7pjgp4i+R59A0ZK2Hs/srrHe28H7K19DY4X4q7lKMsb6siH+0f7DgeZHGe7ttdndC7V2sW/SloZDK9oFRWSAOqZz6vkxnHoBgDyClbHS6lx357R/eRX9X9pKOn/wDKn3p+HRev4+xqbww+GRm3MLNaa3popdSygiCDIe2hYRg8jgyEHkjsOB5k9HgADAHAUUVpo0YUIKEFsfNru7q3tV1qzy3+4QREW05giIgCIiAIiIAiIgCIiAIiIAiIgCIiAIiIAiIgCIiAIiIAiIgCIiAIiIAiIgCIiAIiIAiIgC1tvru9Q7RaNlu4Mct1qiYLbTOP+LLjlxHfoaOT+Q4yFsgnAyvN3xdbgVl53svdtrZn/Z7L8OhpIecNAYHPIHq55P6ei4NRuna0HKPN7ImtA06Op3ipz+FbvzS6fP7GEXnV810r6nUWqLjJWV1bI6SeWR2XPd/6egA7DACxtkdVq6odJci6G3Md/CpwS2SVo/Ge4Ht3Pn7yIIRUzsrq1o6h/hxnsz3+v/JTNU6ntmlrNJXvm6ZgPlJI5OO2FTJJzfmfXFGMElBYx9DI31FBa6EMAighhHyNaA1rQPLCstudPrCdxpah9PbskPkacfH9me39X9ljunLfd9XCO/auhfTUBPVTW9xIdKPxSjyHo3+/os1rrnR2el+1QdLHRt4a0Dpx6Y8l44NbGKTe6KitmtGm7Z9ibHFFTwt+4OGtHnn39+6xqS3Veqpo5amqqaS3s5ZHnEkw988taf7keipn23UdXe4a/WlqqLdRT0sdfb6WoHS6pjc5wbM5vfpJYekHv37YzlVjsuodY3mKz6UtE9dW1LumKGFuT9SewA8ycALbGnPPD1MFGkodo2seOdioiqaOhp4aGmYxj2sDI4WDjA9AFvbZjwk33XNbBqjc6mltdmbiSO3vyypqxnjq84mf/cR26e6254f/AAsW7bow6q1uYbpqXGYmgdUFCD+DI+aT1f5dh6noZrQ0ADyVhsdJUcVK/Pw/JQ9Z9puJuhY8usvx+f4KCyWK06dtlPZ7LbqeioqRgjgggYGsY0eQAVwRFOpY2RS223lhERDwIiIAiIgCIiAIiIAiIgCIiAIiIAiIgCIiAIiIAiIgCIiAIiIAiIgCIiAIiIAiIgCIiAIiIAiIgIEZ4XE3jx0DpOx1lk15Q2f4d2u9VJBV1AcehwZGC0kdg4+vsV20sM3W2q0xu/pObSWqI3iFzxNBPFgSU8wBDXtJ48yCD3BIXLe2/vNF01z6ElpN6rC8hXlnhXPHh+7nlY+ry6OnpqeSomleGxQxNL3yOJwGtA5JJwAAq3WuyOstCXnTl/3SibTy3ellrKG0kZNIGva1rpj934mDnpH3MjPzcN9DtmfClt5s/Xi/U7571emgtira1jf4AOf8Jg4aSDguyT6YBwsu3a2X0ZvNZIbLq2KoZ9ll+NTVVK5rJ4HHh3S5wIw4cEEEHA8wCoeno0+ybk+90LhX9sKXvMI0ovsl8T6v0XgufizzKD6islioqGOSeSaQRxRRtLnyPJwGgDkknAAC678PPhKZTfZ9Z7tW2OaqGJaKzSgOZFzkSTjs53YhnYefPA29tT4Zdsdoqz97WKkqq+6Y6W11xkbLLGD3DA1rWsz2yG591tgADsF02WlRovjrbvw6EbrPtTO7j2FnmMer6v8AC+pqLePw0aF3luluvV4nrbfXUDBAZ6J7Q6aAOLvhuDmuHBc7BHIyVmWgdrtDbaWz92aQ0/T0LXgCaUZfNMR5vkdlzvpnA8gFliKVVGmpuoorL6lYleXE6KoSm+BclnYIiLYcwREQBERAEREAREQBERAEREAREQBERAEREAREQBERAEREAREQBERAEREAREQBERAEREAREQBERAEREAREQBERAEREAREQBERAEREAREQBERAEREAREQBERAEREAREQBERAEREAREQBERAEREB/9k=)\n"
      ],
      "metadata": {
        "id": "6cbAz4CS370f"
      }
    },
    {
      "cell_type": "markdown",
      "source": [
        "## Parte 1: Python basics\n",
        "1. Escreva um programa que printa o número do seu grupo na tela\n",
        "\n",
        "Dica: use o comando print()"
      ],
      "metadata": {
        "id": "LDQ3SjMB5rer"
      }
    },
    {
      "cell_type": "code",
      "source": [
        "# Escreva um programa que printa o número do seu grupo na tela\n",
        "## Escreva abaixo o seu código\n",
        "\n"
      ],
      "metadata": {
        "id": "ka_u3k5p6RAC"
      },
      "execution_count": null,
      "outputs": []
    },
    {
      "cell_type": "code",
      "source": [
        "#@title Solução\n",
        "print('Grupo número X')"
      ],
      "metadata": {
        "cellView": "form",
        "id": "uTRCUvCr6nvo"
      },
      "execution_count": null,
      "outputs": []
    },
    {
      "cell_type": "markdown",
      "source": [
        "### Variáveis e Tipos de Dados\n",
        "\n",
        "1. Use as variáveis ​​de diferentes tipos de dados (int, float, string, boolean).\n",
        "2. Imprima seus valores e tipos de dados usando a função type()."
      ],
      "metadata": {
        "id": "W8SWdfgm7ddk"
      }
    },
    {
      "cell_type": "code",
      "source": [
        "# Variáveis\n",
        "my_int = 10\n",
        "my_float = 3.14\n",
        "my_str = \"Engineering\"\n",
        "my_bool = True\n",
        "\n",
        "# Printando os tipos das variáveis\n",
        "## Complete a função print() abaixo com seu código. Substitua o emoji 😀 pelo seu codigo\n",
        "print(😀, 😀) # Imprimir a variável my_int seguida pelo tipo dela\n",
        "print(😀, 😀) # Imprimir a variável my_float seguida pelo tipo dela\n",
        "print(😀, 😀) # Imprimir a variável my_str seguida pelo tipo dela\n",
        "print(😀, 😀) # Imprimir a variável my_bool seguida pelo tipo dela\n"
      ],
      "metadata": {
        "id": "I71QrJef7sY-"
      },
      "execution_count": null,
      "outputs": []
    },
    {
      "cell_type": "code",
      "source": [
        "#@title Solução\n",
        "\n",
        "my_int = 10\n",
        "my_float = 3.14\n",
        "my_str = \"Engineering\"\n",
        "my_bool = True\n",
        "\n",
        "print(my_int, type(my_int))\n",
        "print(my_float, type(my_float))\n",
        "print(my_str, type(my_str))\n",
        "print(my_bool, type(my_bool))"
      ],
      "metadata": {
        "cellView": "form",
        "id": "Uy2_8jA-8R6s"
      },
      "execution_count": null,
      "outputs": []
    },
    {
      "cell_type": "markdown",
      "source": [
        "### Fluxo de controle (if-else, for-loop, while-loop)\n",
        "1. Use uma instrução if-else para determinar se um número é positivo, negativo ou zero.\n",
        "2. Use um loop for para imprimir os primeiros 10 números naturais.\n",
        "3. Use um loop while para fazer a contagem regressiva de 10 a 1."
      ],
      "metadata": {
        "id": "sCgZynyU8j7y"
      }
    },
    {
      "cell_type": "code",
      "source": [
        "## Substitua o emoji 😀 pelo seu código\n",
        "\n",
        "# 1. If-else\n",
        "num = float(input(\"Digite um número: \"))\n",
        "\n",
        "## Complete a função abaixo\n",
        "if num > 😀:\n",
        "    print(\"Positivo\")\n",
        "## Complete a função abaixo\n",
        "elif num < 😀:\n",
        "    print(\"Negativo\")\n",
        "else:\n",
        "    print(\"Zero\")\n",
        "\n",
        "# 2. For loop\n",
        "## Complete a função abaixo\n",
        "for i in range(😀):\n",
        "    print(i)\n",
        "\n",
        "# 3. While loop\n",
        "count = 10\n",
        "## Complete a função abaixo\n",
        "while count > 😀:\n",
        "    print(count)\n",
        "    count -= 1\n"
      ],
      "metadata": {
        "id": "lTAGBTwt8uEE"
      },
      "execution_count": null,
      "outputs": []
    },
    {
      "cell_type": "code",
      "source": [
        "#@title Solução\n",
        "\n",
        "# 1. If-else\n",
        "num = float(input(\"Digite um número: \"))\n",
        "if num > 0:\n",
        "    print(\"Positivo\")\n",
        "elif num < 0:\n",
        "    print(\"Negativo\")\n",
        "else:\n",
        "    print(\"Zero\")\n",
        "\n",
        "# 2. For loop\n",
        "for i in range(1, 11):\n",
        "    print(i)\n",
        "\n",
        "# 3. While loop\n",
        "count = 10\n",
        "while count > 0:\n",
        "    print(count)\n",
        "    count -= 1\n"
      ],
      "metadata": {
        "cellView": "form",
        "id": "qU0An_M49yG0"
      },
      "execution_count": null,
      "outputs": []
    },
    {
      "cell_type": "markdown",
      "source": [
        "## Parte 2: Numpy basics\n",
        "\n",
        "Agora sim, vamos testar a biblioteca.\n",
        "\n",
        "Para começar, vamos importar ela"
      ],
      "metadata": {
        "id": "rtKdxFhV-BH3"
      }
    },
    {
      "cell_type": "code",
      "source": [
        "import numpy as np"
      ],
      "metadata": {
        "id": "XSVS7HXMoDIB"
      },
      "execution_count": null,
      "outputs": []
    },
    {
      "cell_type": "markdown",
      "source": [
        "Agora, vou ilistrar como:\n",
        "1. Criar um array 1D contendo os números de 0 a 9\n",
        "2. Criar um array 2D (3x3) com os números de 1 a 9."
      ],
      "metadata": {
        "id": "QN6ehN9Y-n1D"
      }
    },
    {
      "cell_type": "code",
      "source": [
        "import numpy as np\n",
        "\n",
        "# 1D array\n",
        "arr_1d = np.arange(10)\n",
        "print(\"1D array:\\n\", arr_1d)\n",
        "\n",
        "# 2D array\n",
        "arr_2d = np.array([[1, 2, 3],\n",
        "                   [4, 5, 6],\n",
        "                   [7, 8, 9]])\n",
        "print(\"2D array:\\n\", arr_2d)\n"
      ],
      "metadata": {
        "id": "mMms7Q3x-u0C"
      },
      "execution_count": null,
      "outputs": []
    },
    {
      "cell_type": "markdown",
      "source": [
        "Agora quee voce já sabe como um array 2D e 1D se parecem, vamos ver algumas operações básicas de array\n",
        "\n",
        "A seguir, eu vou:\n",
        "1. Criar um array NumPy 1D de cinco inteiros aleatórios (entre 1 e 20).\n",
        "2. Imprimir o máximo, o mínimo e a média deste array.\n",
        "3. Multiplicar cada elemento no array por 2 e imprimir o resultado."
      ],
      "metadata": {
        "id": "KMhM-sKW_GI3"
      }
    },
    {
      "cell_type": "code",
      "source": [
        "import numpy as np\n",
        "\n",
        "arr = np.random.randint(1, 21, size=5)\n",
        "print(\"Array aleatório:\", arr)\n",
        "print(\"Max:\", arr.max())\n",
        "print(\"Min:\", arr.min())\n",
        "print(\"Média:\", arr.mean())\n",
        "\n",
        "arr_times_two = arr * 2\n",
        "print(\"Array multiplicado por 2:\", arr_times_two)\n"
      ],
      "metadata": {
        "id": "ILncrjeH_RQE"
      },
      "execution_count": null,
      "outputs": []
    },
    {
      "cell_type": "markdown",
      "source": [
        "Show! Agora vamos ver aprender indexação de matrizes\n",
        "\n",
        "1. Dado um array 1D arr = np.array([10, 20, 30, 40, 50]), vamos extrair:\n",
        "*   O primeiro elemento\n",
        "*   Os últimos 2 elementos\n",
        "*   Elementos do índice 1 a 3\n",
        "\n",
        "2. Dado um array 2D arr_2d = np.array([[1, 2, 3], [4, 5, 6], [7, 8, 9]]):\n",
        "*   Extrair a segunda linha inteira.\n",
        "*   Extrair o elemento na segunda linha, terceira coluna.\n",
        "*   Extrair as duas primeiras linhas e as duas primeiras colunas."
      ],
      "metadata": {
        "id": "tkmHvBv9_pHv"
      }
    },
    {
      "cell_type": "code",
      "source": [
        "import numpy as np\n",
        "\n",
        "arr = np.array([10, 20, 30, 40, 50])\n",
        "print(\"Primeiro elemento:\", arr[0])\n",
        "print(\"Últimos 2 elementos:\", arr[-2:])\n",
        "print(\"Elementos do índice 1 ao 3:\", arr[1:4])  # inclue indice 1, 2, 3\n",
        "\n",
        "arr_2d = np.array([[1, 2, 3],\n",
        "                   [4, 5, 6],\n",
        "                   [7, 8, 9]])\n",
        "print(\"Segunda fileira:\", arr_2d[1, :])\n",
        "print(\"Elemento [1,2]:\", arr_2d[1, 2])\n",
        "print(\"Primeiras duas fileiras e colunas:\\n\", arr_2d[:2, :2])\n"
      ],
      "metadata": {
        "id": "_KnU6U3g_vFD"
      },
      "execution_count": null,
      "outputs": []
    },
    {
      "cell_type": "markdown",
      "source": [
        "E para finalizar, vamos aprender a mudar as redimensionar o nosso array.\n",
        "Para isso, vamos:\n",
        "1. Criar uma matriz 1D de números de 1 a 12 e\n",
        "2. Remodelar ela em uma matriz 2D 3x4."
      ],
      "metadata": {
        "id": "-6iQ7FdmAPt6"
      }
    },
    {
      "cell_type": "code",
      "source": [
        "import numpy as np\n",
        "\n",
        "arr = np.arange(1, 13)\n",
        "arr_2d = arr.reshape((3, 4))\n",
        "print(\"Original 3x4 array:\\n\", arr_2d)"
      ],
      "metadata": {
        "id": "aTRYluG0AlHa"
      },
      "execution_count": null,
      "outputs": []
    },
    {
      "cell_type": "markdown",
      "source": [
        "Que demais! Vamos finalmente trabalhar com nosso sinal de EMG?"
      ],
      "metadata": {
        "id": "JqRqZoPGAqQ8"
      }
    },
    {
      "cell_type": "markdown",
      "source": [
        "## Parte 3: Sinais de EMG\n",
        "\n",
        "Legal! Para trabalhar com os sinais de EMG, voce vai ter que baixar os seguintes arquivos que foram disponibilizados para voces:\n",
        "\n",
        "\n",
        "*   EMG_data_fullgrasp.npy\n",
        "*   EMG_data_pinch.npy\n",
        "*   EMG_data_rest.npy\n",
        "\n",
        "Conforme dito anteriormente, cada um deles é o sinal de EMG de um paciente saudavel enquanto realizando os respectivos gestos com a mão.\n",
        "\n",
        "Cada arquivo contém um número de samples de sinais de EMG (primeira dimensão). A segunda dimensão é o número de canais (no caso, 8). A terceira dimensão é o número de timesteps (no caso, 200).\n",
        "\n",
        "Portanto, os arquivos tem dimensão: *(número de samples, número de canais, número de timesteps)*\n",
        "\n",
        "Para começar, vamos começar carrendo estes arquivos em variaveis usando a biblioteca numpy e a função [np.load()](https://numpy.org/doc/2.1/reference/generated/numpy.load.html)\n",
        "\n"
      ],
      "metadata": {
        "id": "IbiVWU2_AvMz"
      }
    },
    {
      "cell_type": "code",
      "source": [
        "# Fazendo download dos arquivos\n",
        "!git clone https://github.com/bme-einstein/processament-sinais-aula2.git"
      ],
      "metadata": {
        "id": "YVfvZbqRac9b"
      },
      "execution_count": null,
      "outputs": []
    },
    {
      "cell_type": "code",
      "source": [
        "# Atribuindo os arquivos de EMG a diferentes variaveis\n",
        "fullgrasp = np.load('processament-sinais-aula2/EMG_data_fullgrasp.npy')\n",
        "pinch = np.load('processament-sinais-aula2/EMG_data_pinch.npy')\n",
        "rest = np.load('processament-sinais-aula2/EMG_data_rest.npy')"
      ],
      "metadata": {
        "id": "hQCtwM38ptvO"
      },
      "execution_count": null,
      "outputs": []
    },
    {
      "cell_type": "markdown",
      "source": [
        "Agora é com você:\n",
        "\n",
        "1. Imprima a dimensão de cada um dos arrays. Para isso, use a função print() e [np.shape](https://numpy.org/doc/2.1/reference/generated/numpy.shape.html)\n"
      ],
      "metadata": {
        "id": "LR3xm-JuFrWz"
      }
    },
    {
      "cell_type": "code",
      "source": [
        "# Imprima a dimensão de cada variável\n",
        "## Seu código aqui\n",
        "😀"
      ],
      "metadata": {
        "id": "JFmW2tq7q8om"
      },
      "execution_count": null,
      "outputs": []
    },
    {
      "cell_type": "code",
      "source": [
        "#@title Solução\n",
        "\n",
        "print(\"Dimensão do array fullgrasp:\", np.shape(fullgrasp))\n",
        "print(\"Dimensão do array pinch:\", np.shape(pinch))\n",
        "print(\"Dimensão do array rest:\", np.shape(rest))"
      ],
      "metadata": {
        "id": "_uiBPRpZGSTs"
      },
      "execution_count": null,
      "outputs": []
    },
    {
      "cell_type": "markdown",
      "source": [
        "Ops! Parece que quem salvou o arquivo salvou com as dimensões erradas.\n",
        "\n",
        "Os arrays tem dimensão (número de samples, 8, 200, 1) e não (número de samples, 8, 200)\n",
        "\n",
        "Para consertar isso:\n",
        "1. Use a função [numpy.reshape](https://numpy.org/doc/stable/reference/generated/numpy.reshape.html) para trocar a dimensão de (número de samples, 8, 200, 1) para (número de samples, 8, 200).\n",
        "2. Lembre-se, se você nao precisa mudar aquela dimensão, use \"-1\" para manter a mesma. Ou seja, para manter o mesmo número de sample sem ter que saber o valor da mesma, use \"-1\"\n"
      ],
      "metadata": {
        "id": "STkFo_D-Gae1"
      }
    },
    {
      "cell_type": "code",
      "source": [
        "# Faça uma reshape das váriaveis para as dimensões corretas\n",
        "## Seu código aqui\n",
        "😀"
      ],
      "metadata": {
        "id": "Ynvm6WJhHXYk"
      },
      "execution_count": null,
      "outputs": []
    },
    {
      "cell_type": "code",
      "source": [
        "#@title Solução\n",
        "\n",
        "fullgrasp = fullgrasp.reshape(-1, 8, 200)\n",
        "pinch = pinch.reshape(-1, 8, 200)\n",
        "rest = rest.reshape(-1, 8, 200)"
      ],
      "metadata": {
        "id": "DNLS0TNfHaRV"
      },
      "execution_count": null,
      "outputs": []
    },
    {
      "cell_type": "markdown",
      "source": [
        "Legal. Agora imprima novamente o shape das variaveis para conferir que estas estão corretas."
      ],
      "metadata": {
        "id": "H0D3E4JVHhQ4"
      }
    },
    {
      "cell_type": "code",
      "source": [
        "# Imprima o shape de cada uma das variaveis\n",
        "## Seu código aqui\n",
        "😀"
      ],
      "metadata": {
        "id": "_oxbIPEqHfG_"
      },
      "execution_count": null,
      "outputs": []
    },
    {
      "cell_type": "code",
      "source": [
        "#@title Solução\n",
        "\n",
        "print(\"Dimensão do array fullgrasp:\", np.shape(fullgrasp))\n",
        "print(\"Dimensão do array pinch:\", np.shape(pinch))\n",
        "print(\"Dimensão do array rest:\", np.shape(rest))"
      ],
      "metadata": {
        "cellView": "form",
        "id": "u4MEc6wXHmrW"
      },
      "execution_count": null,
      "outputs": []
    },
    {
      "cell_type": "markdown",
      "source": [
        "Parabéns! Agora, vamos selecionar apenas 1 amostra para trabalharmos com ela?\n",
        "\n",
        "Para isso, selecione a amostra de número 100.\n",
        "\n",
        "Voce sabe como fazer isso? Deveria saber, afinal eu acabei de ensinar como fazer indexação de matrizes."
      ],
      "metadata": {
        "id": "3s0R312zHqaY"
      }
    },
    {
      "cell_type": "code",
      "source": [
        "# Selecione a amostra de número 100 para cada uma das variáveis\n",
        "## Seu código aqui\n",
        "😀"
      ],
      "metadata": {
        "id": "8gWuOYP7H8_C"
      },
      "execution_count": null,
      "outputs": []
    },
    {
      "cell_type": "code",
      "source": [
        "#@title Solução\n",
        "\n",
        "fullgrasp = fullgrasp[100,:,:]\n",
        "pinch = pinch[100,:,:]\n",
        "rest = rest[100,:,:]"
      ],
      "metadata": {
        "id": "Wn5AL0VbIOjH"
      },
      "execution_count": null,
      "outputs": []
    },
    {
      "cell_type": "markdown",
      "source": [
        "Legal!\n",
        "\n",
        "Vamos imprimir o shape das variáveis para conferir que tá tudo certo?\n",
        "\n",
        "Como você já fez isso algumas vezes, vou fazer para você dessa vez..."
      ],
      "metadata": {
        "id": "AIHE14WIIT4u"
      }
    },
    {
      "cell_type": "code",
      "source": [
        "# Imprimindo a dimensão dos arrays\n",
        "print(\"Dimensão do array fullgrasp:\", np.shape(fullgrasp))\n",
        "print(\"Dimensão do array pinch:\", np.shape(pinch))\n",
        "print(\"Dimensão do array rest:\", np.shape(rest))"
      ],
      "metadata": {
        "id": "_zDGOL8qrxMV"
      },
      "execution_count": null,
      "outputs": []
    },
    {
      "cell_type": "markdown",
      "source": [
        "Parabéns por terem chego até aqui!\n",
        "\n",
        "Agora, gerar plots para cada um dos gestos e discutir alguns pontos?\n",
        "\n",
        "Para gerar os plots, vamos utilizar a biblioteca matplotlib que vocês tanto amam.\n"
      ],
      "metadata": {
        "id": "Iq0jQ1sYI32Z"
      }
    },
    {
      "cell_type": "code",
      "source": [
        "import matplotlib.pyplot as plt"
      ],
      "metadata": {
        "id": "24qGx97TMQnw"
      },
      "execution_count": null,
      "outputs": []
    },
    {
      "cell_type": "markdown",
      "source": [
        "Agora parte do código é com você!\n",
        "\n",
        "Eu vou gerar um plot para cada canal do fullgrasp.\n",
        "\n",
        "Toda a estrutura do código para gerar o gráfico já está pronta, você só precisa substituir um lugar, assinalado com o emoji 😀, para poder visualizar os dados!\n",
        "\n",
        "Então, faça o seguinte:\n",
        "1. Substitua o emoji 😀 pela variável **fullgrasp** para podermos visualizar o nosso sinal de EMG!\n",
        "2. Perceba que o loop 'for' está passando por todos os canais do nosso sinal de EMG. Portanto, voce quer plotar apenas o canal \"i\". Lembre-se que você quer plotar todos os time steps para aquele canal \"i\". Portanto, use a indexação [i,:]\n"
      ],
      "metadata": {
        "id": "TsY1NrDQJOhm"
      }
    },
    {
      "cell_type": "code",
      "source": [
        "# Plotar cada canal de EMG para o full grasp\n",
        "## Passa por todos os números inteiros da dimensão [0] do array fullgrasp, que no caso são todos os canais de EMG (oito)\n",
        "for i in range(fullgrasp.shape[0]):\n",
        "  plt.figure(figsize=(3, 2))  # Ajusta o tamanho da figura\n",
        "\n",
        "  ## Seu codigo aqui!\n",
        "  plt.plot(😀) # Plota todos os time steps para aquele dado canal \"i\" do array fullgrasp\n",
        "\n",
        "\n",
        "  plt.xlim(0,200) # Limita as dimensões do eixo x\n",
        "  plt.ylim(-300,300) # Limita as dimensões do eixo y\n",
        "  plt.title(f\"Dados de EMG para o canal {i+1}\") # Titulo do gráfico\n",
        "  plt.xlabel('Amostras de tempo') # Legenda do eixo x\n",
        "  plt.ylabel('Amplitude do EMG') # Legenda do eixo y\n",
        "  plt.grid(True) # Adiciona o grid\n",
        "  plt.show()\n"
      ],
      "metadata": {
        "id": "mV3VdIIBrx-J"
      },
      "execution_count": null,
      "outputs": []
    },
    {
      "cell_type": "code",
      "source": [
        "#@title Solução\n",
        "\n",
        "# Plotar cada canal de EMG para o full grasp\n",
        "## Passa por todos os números inteiros da dimensão [0] do array fullgrasp, que no caso são todos os canais de EMG (oito)\n",
        "for i in range(fullgrasp.shape[0]):\n",
        "  plt.figure(figsize=(3, 2))  # Ajusta o tamanho da figura\n",
        "  plt.plot(fullgrasp[i,:]) # Plota todos os time steps para aquele dado canal \"i\" do array fullgrasp\n",
        "  plt.xlim(0,200) # Limita as dimensões do eixo x\n",
        "  plt.ylim(-300,300) # Limita as dimensões do eixo y\n",
        "  plt.title(f\"Dados de EMG para o canal {i+1}\") # Titulo do gráfico\n",
        "  plt.xlabel('Amostras de tempo') # Legenda do eixo x\n",
        "  plt.ylabel('Amplitude do EMG') # Legenda do eixo y\n",
        "  plt.grid(True) # Adiciona o grid\n",
        "  plt.show()\n"
      ],
      "metadata": {
        "cellView": "form",
        "id": "q4MLVCtZKHVp"
      },
      "execution_count": null,
      "outputs": []
    },
    {
      "cell_type": "markdown",
      "source": [
        "Parabéns! Agora faça a mesma coisa para o gesto de pinch!"
      ],
      "metadata": {
        "id": "gr5YJ33XK6Ce"
      }
    },
    {
      "cell_type": "code",
      "source": [
        "# Plotar cada canal de EMG para o pinch\n",
        "😀"
      ],
      "metadata": {
        "id": "Sh1q_pxUK-iT"
      },
      "execution_count": null,
      "outputs": []
    },
    {
      "cell_type": "code",
      "source": [
        "#@title Solução\n",
        "\n",
        "# Plotar cada canal de EMG para o pinch\n",
        "## Passa por todos os números inteiros da dimensão [0] do array pinch, que no caso são todos os canais de EMG (oito)\n",
        "for i in range(pinch.shape[0]):\n",
        "  plt.figure(figsize=(3, 2))  # Ajusta o tamanho da figura\n",
        "  plt.plot(pinch[i,:]) # Plota todos os time steps para aquele dado canal \"i\" do array pinch\n",
        "  plt.xlim(0,200) # Limita as dimensões do eixo x\n",
        "  plt.ylim(-300,300) # Limita as dimensões do eixo y\n",
        "  plt.title(f\"Dados de EMG para o canal {i+1}\") # Titulo do gráfico\n",
        "  plt.xlabel('Amostras de tempo') # Legenda do eixo x\n",
        "  plt.ylabel('Amplitude do EMG') # Legenda do eixo y\n",
        "  plt.grid(True) # Adiciona o grid\n",
        "  plt.show()\n"
      ],
      "metadata": {
        "cellView": "form",
        "id": "3qxW19hPLCJv"
      },
      "execution_count": null,
      "outputs": []
    },
    {
      "cell_type": "markdown",
      "source": [
        "E agora para o repouso."
      ],
      "metadata": {
        "id": "jeNGLOmdLI8M"
      }
    },
    {
      "cell_type": "code",
      "source": [
        "# Plotar cada canal de EMG para o pinch\n",
        "😀"
      ],
      "metadata": {
        "id": "OpP85yUfJpAy"
      },
      "execution_count": null,
      "outputs": []
    },
    {
      "cell_type": "code",
      "source": [
        "#@title Solução\n",
        "\n",
        "# Plotar cada canal de EMG para o rest\n",
        "## Passa por todos os números inteiros da dimensão [0] do array rest, que no caso são todos os canais de EMG (oito)\n",
        "for i in range(rest.shape[0]):\n",
        "  plt.figure(figsize=(3, 2))  # Ajusta o tamanho da figura\n",
        "  plt.plot(rest[i,:]) # Plota todos os time steps para aquele dado canal \"i\" do array rest\n",
        "  plt.xlim(0,200) # Limita as dimensões do eixo x\n",
        "  plt.ylim(-300,300) # Limita as dimensões do eixo y\n",
        "  plt.title(f\"Dados de EMG para o canal {i+1}\") # Titulo do gráfico\n",
        "  plt.xlabel('Amostras de tempo') # Legenda do eixo x\n",
        "  plt.ylabel('Amplitude do EMG') # Legenda do eixo y\n",
        "  plt.grid(True) # Adiciona o grid\n",
        "  plt.show()\n"
      ],
      "metadata": {
        "cellView": "form",
        "id": "w-69Af_MLL4S"
      },
      "execution_count": null,
      "outputs": []
    },
    {
      "cell_type": "markdown",
      "source": [
        "Que demais! Parabéns por chegar até aqui.\n",
        "\n",
        "Agora, discuta com o seu grupo os seguintes pontos:\n",
        "\n",
        "\n",
        "*   Para cada um dos gestos, qual foi o canal em que o EMG visualmente teve maior amplitude?\n",
        "*   Isso significa que aquele músculo foi mais empregado?\n",
        "*   Os mesmos músculos foram majoritariamente empregados para todos os gestos?\n",
        "*   Porque o sinal de EMG nao é uma reta para o repouso?\n",
        "\n",
        "\n"
      ],
      "metadata": {
        "id": "_zHG0BzXLRVJ"
      }
    }
  ]
}